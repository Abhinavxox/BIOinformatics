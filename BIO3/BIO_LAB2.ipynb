{
  "cells": [
    {
      "cell_type": "markdown",
      "metadata": {
        "id": "OenPPI6pF1Rq"
      },
      "source": [
        "#21BIO201: Lab Assignment 2\n",
        "<pre>\n",
        "Name: Abhinav Pandey\n",
        "Rollno: AM.EN.U4AIE21088\n",
        "\n",
        "\n"
      ]
    },
    {
      "cell_type": "code",
      "execution_count": 9,
      "metadata": {
        "colab": {
          "base_uri": "https://localhost:8080/",
          "height": 0
        },
        "id": "8SbdnNcenEuP",
        "outputId": "775bc520-317d-48c3-e2b6-7a91adf5f1fb"
      },
      "outputs": [
        {
          "name": "stdout",
          "output_type": "stream",
          "text": [
            "Enter integer k :5\n",
            "Enter DNA sequence :CAATCCAAC\n",
            "AATCC\n",
            "ATCCA\n",
            "CAATC\n",
            "CCAAC\n",
            "TCCAA\n"
          ]
        }
      ],
      "source": [
        "#1\n",
        "#String Composition Problem: Generate the k-mer composition of a string\n",
        "\n",
        "def stringComposition(text, k):\n",
        "  kmerArray = []\n",
        "  for i in range(0,len(text)-k+1):\n",
        "    kmer = text[i:i+k]\n",
        "    kmerArray.append(kmer)\n",
        "    kmerArray.sort()\n",
        "  return kmerArray\n",
        "\n",
        "k = int(input('Enter integer k :'))\n",
        "Dna = input('Enter DNA sequence :')\n",
        "    \n",
        "kmers = stringComposition(Dna, k)\n",
        "for i in kmers:\n",
        "  print(i)"
      ]
    },
    {
      "cell_type": "code",
      "execution_count": 10,
      "metadata": {
        "colab": {
          "base_uri": "https://localhost:8080/",
          "height": 0
        },
        "id": "iNUKolyRtjrN",
        "outputId": "1eb21d80-3de8-49cb-e5ab-a72cb9af7028"
      },
      "outputs": [
        {
          "name": "stdout",
          "output_type": "stream",
          "text": [
            "ACCGAAGCT\n"
          ]
        }
      ],
      "source": [
        "#2\n",
        "#String Spelled by a Genome Path Problem\n",
        "\n",
        "def stringReconstruction(kmers):\n",
        "  string = kmers[0]\n",
        "  for i in range(1, len(kmers)):\n",
        "    string += kmers[i][-1]\n",
        "\n",
        "  return string\n",
        "\n",
        "kmers = ['ACCGA', ', CCGAA', 'CGAAG', 'GAAGC', 'AAGCT']\n",
        "print(stringReconstruction(kmers))"
      ]
    },
    {
      "cell_type": "code",
      "execution_count": 11,
      "metadata": {
        "colab": {
          "base_uri": "https://localhost:8080/",
          "height": 0
        },
        "id": "H3-KepozvoKA",
        "outputId": "0de3da65-c671-41a7-b2e1-d049dab4426e"
      },
      "outputs": [
        {
          "name": "stdout",
          "output_type": "stream",
          "text": [
            "Enter the DNA sequence :AAAAACCCCCAAAAACCCCCCAAAAAGGGTTT\n",
            "Enter the value of n :10\n",
            "['AAAAACCCCC', 'CCCCCAAAAA']\n"
          ]
        }
      ],
      "source": [
        "#3\n",
        "#Repeated DNA Sequence Problem\n",
        "\n",
        "def findRepeatDnaSequence(s, n):\n",
        "  mp = {}\n",
        "  res = set()\n",
        "\n",
        "  for i in range(0, len(s)-n):\n",
        "    k = s[i:i+n]\n",
        "    mp[k] = mp.get(k, 0) + 1\n",
        "    if mp[k]>1:\n",
        "      res.add(k)\n",
        "\n",
        "  return list(res)\n",
        "\n",
        "Dna = input('Enter the DNA sequence :')\n",
        "n = int(input('Enter the value of n :'))\n",
        "\n",
        "print(findRepeatDnaSequence(Dna, n))"
      ]
    }
  ],
  "metadata": {
    "colab": {
      "collapsed_sections": [],
      "provenance": []
    },
    "kernelspec": {
      "display_name": "Python 3",
      "language": "python",
      "name": "python3"
    },
    "language_info": {
      "name": "python",
      "version": "3.10.6 (main, Nov 14 2022, 16:10:14) [GCC 11.3.0]"
    },
    "vscode": {
      "interpreter": {
        "hash": "916dbcbb3f70747c44a77c7bcd40155683ae19c65e1c03b4aa3499c5328201f1"
      }
    }
  },
  "nbformat": 4,
  "nbformat_minor": 0
}
