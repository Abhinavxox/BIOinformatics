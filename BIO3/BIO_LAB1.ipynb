{
  "cells": [
    {
      "cell_type": "markdown",
      "metadata": {
        "id": "OenPPI6pF1Rq"
      },
      "source": [
        "#21BIO201: Lab Assignment 1\n",
        "<pre>\n",
        "Name: Abhinav Pandey\n",
        "Rollno: AM.EN.U4AIE21088\n",
        "\n",
        "\n"
      ]
    },
    {
      "cell_type": "code",
      "execution_count": null,
      "metadata": {
        "colab": {
          "base_uri": "https://localhost:8080/"
        },
        "id": "SuftglAzfSvC",
        "outputId": "661433aa-7faa-4dd4-ef9b-fecf13bd65a1"
      },
      "outputs": [
        {
          "name": "stdout",
          "output_type": "stream",
          "text": [
            "True\n",
            "False\n"
          ]
        }
      ],
      "source": [
        "#question 1\n",
        "#check if the length of seq equals the no of A,T,G,C \n",
        "\n",
        "def validate(dna):\n",
        "  DNA = dna.upper()\n",
        "  A = DNA.count('A')\n",
        "  G = DNA.count('G')\n",
        "  T = DNA.count('T')\n",
        "  C = DNA.count('C')\n",
        "\n",
        "  if (A+G+T+C)==len(dna):\n",
        "    return True\n",
        "  else:\n",
        "    return False\n",
        "\n",
        "print(validate(\"AGTCGTAGC\"))\n",
        "print(validate(\"AGTCGAGCB\"))"
      ]
    },
    {
      "cell_type": "code",
      "execution_count": null,
      "metadata": {
        "colab": {
          "base_uri": "https://localhost:8080/"
        },
        "id": "6fNFIN7hmP2C",
        "outputId": "836e7ee8-a616-4e8e-853c-f28fa4f0713e"
      },
      "outputs": [
        {
          "name": "stdout",
          "output_type": "stream",
          "text": [
            "55.55555555555556%\n"
          ]
        }
      ],
      "source": [
        "#question2\n",
        "#calculate the GC content\n",
        "\n",
        "def GC_content(dna):\n",
        "  DNA = dna.upper()\n",
        "  A = DNA.count('A')\n",
        "  G = DNA.count('G')\n",
        "  T = DNA.count('T')\n",
        "  C = DNA.count('C')\n",
        "  gc_content = (G+C)/(A+T+G+C) * 100\n",
        "  return str(gc_content)+'%'\n",
        "\n",
        "print(GC_content('AGTCGATGC'))"
      ]
    },
    {
      "cell_type": "code",
      "execution_count": null,
      "metadata": {
        "colab": {
          "base_uri": "https://localhost:8080/"
        },
        "id": "AN9tNKP9qXqG",
        "outputId": "d19e7bd7-36ab-4093-8814-8e9b64e613b2"
      },
      "outputs": [
        {
          "name": "stdout",
          "output_type": "stream",
          "text": [
            "GQKKPSPCLLTIHP_KPLRKWLFRSSCFASLGLGLLPMYFSLSIISLQSRLVLNRGPDK_F_DTWLWPMP_LSSSLYFQTT__LLLQLFLKLTSNVN_NSSLASWQEAQTCVQLVF_VSISLSHLFLLIQVKEYSEQVSQTWQVILVTVVGSSVS_ITSTFQLRSLVHS_QTITITLKASCSVPLLISV_ALSS_GLPMMPHS_ASWSGPVSPWYFSSIDIVRECSTYSLSIRTPGAKQRPQQPILS_CW_SHLLAFIF_VLFVSSFTPILYILIIP_GIAMTFWFRVSLQFLLYC_PSETLRVLVLCSSTVESQSH_KCQTQKTALLIPLNTLFHKYVFKSLYEQGMVLTAILIKE_GYNHLLI_KDFWLESD_NSELFTTLHSL\n"
          ]
        }
      ],
      "source": [
        "#question3\n",
        "#convert DNA to protein\n",
        "table = {\n",
        "'ATA':'I', 'ATC':'I', 'ATT':'I', 'ATG':'M',\n",
        "'ACA':'T', 'ACC':'T', 'ACG':'T', 'ACT':'T',\n",
        "'AAC':'N', 'AAT':'N', 'AAA':'K', 'AAG':'K',\n",
        "'AGC':'S', 'AGT':'S', 'AGA':'R', 'AGG':'R',\n",
        "'CTA':'L', 'CTC':'L', 'CTG':'L', 'CTT':'L',\n",
        "'CCA':'P', 'CCC':'P', 'CCG':'P', 'CCT':'P',\n",
        "'CAC':'H', 'CAT':'H', 'CAA':'Q', 'CAG':'Q',\n",
        "'CGA':'R', 'CGC':'R', 'CGG':'R', 'CGT':'R',\n",
        "'GTA':'V', 'GTC':'V', 'GTG':'V', 'GTT':'V',\n",
        "'GCA':'A', 'GCC':'A', 'GCG':'A', 'GCT':'A',\n",
        "'GAC':'D', 'GAT':'D', 'GAA':'E', 'GAG':'E',\n",
        "'GGA':'G', 'GGC':'G', 'GGG':'G', 'GGT':'G',\n",
        "'TCA':'S', 'TCC':'S', 'TCG':'S', 'TCT':'S',\n",
        "'TTC':'F', 'TTT':'F', 'TTA':'L', 'TTG':'L',\n",
        "'TAC':'Y', 'TAT':'Y', 'TAA':'_', 'TAG':'_',\n",
        "'TGC':'C', 'TGT':'C', 'TGA':'_', 'TGG':'W',\n",
        "}\n",
        "\n",
        "def convert(dna):\n",
        "  dna = dna.upper()\n",
        "  protein =\"\"\n",
        "  if len(dna)%3 == 0:\n",
        "      for i in range(0, len(dna), 3):\n",
        "          codon = dna[i:i + 3]\n",
        "          protein+= table[codon]\n",
        "  return protein\n",
        "\n",
        "\n",
        "\n",
        "f = open(\"NM_207618.2.fasta\", \"r\")\n",
        "f.readline()\n",
        "print(\"\"+convert(f.readline()))"
      ]
    }
  ],
  "metadata": {
    "colab": {
      "collapsed_sections": [],
      "provenance": []
    },
    "kernelspec": {
      "display_name": "Python 3",
      "language": "python",
      "name": "python3"
    },
    "language_info": {
      "name": "python",
      "version": "3.10.6 (main, Nov 14 2022, 16:10:14) [GCC 11.3.0]"
    },
    "vscode": {
      "interpreter": {
        "hash": "916dbcbb3f70747c44a77c7bcd40155683ae19c65e1c03b4aa3499c5328201f1"
      }
    }
  },
  "nbformat": 4,
  "nbformat_minor": 0
}
