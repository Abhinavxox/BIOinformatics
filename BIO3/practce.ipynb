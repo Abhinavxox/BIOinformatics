{
 "cells": [
  {
   "cell_type": "code",
   "execution_count": 5,
   "metadata": {},
   "outputs": [
    {
     "name": "stdout",
     "output_type": "stream",
     "text": [
      "ACG\n",
      "ACG\n",
      "CGA\n",
      "CGC\n",
      "GAC\n",
      "GAC\n",
      "GCG\n",
      "GTG\n",
      "TGA\n"
     ]
    }
   ],
   "source": [
    "def Construction(dna, k):\n",
    "    kmers = []\n",
    "    for i in range(0,len(dna)-k+1):\n",
    "        kmers.append(dna[i:i+k])\n",
    "    kmers.sort()\n",
    "    return kmers\n",
    "\n",
    "k = 3\n",
    "Dna = \"GTGACGCGACG\"\n",
    "    \n",
    "kmers = Construction(Dna, k)\n",
    "for i in kmers:\n",
    "  print(i)"
   ]
  },
  {
   "cell_type": "code",
   "execution_count": 6,
   "metadata": {},
   "outputs": [
    {
     "name": "stdout",
     "output_type": "stream",
     "text": [
      "ACGGACCCGGA\n"
     ]
    }
   ],
   "source": [
    "def StringReconstruction(kmers):\n",
    "    string = kmers[0]\n",
    "    for i in range(1, len(kmers)):\n",
    "        string += kmers[i][-1]\n",
    "    return string\n",
    "\n",
    "reconstructedString = StringReconstruction(kmers)\n",
    "print(reconstructedString)"
   ]
  }
 ],
 "metadata": {
  "kernelspec": {
   "display_name": "Python 3",
   "language": "python",
   "name": "python3"
  },
  "language_info": {
   "codemirror_mode": {
    "name": "ipython",
    "version": 3
   },
   "file_extension": ".py",
   "mimetype": "text/x-python",
   "name": "python",
   "nbconvert_exporter": "python",
   "pygments_lexer": "ipython3",
   "version": "3.10.6"
  },
  "orig_nbformat": 4,
  "vscode": {
   "interpreter": {
    "hash": "916dbcbb3f70747c44a77c7bcd40155683ae19c65e1c03b4aa3499c5328201f1"
   }
  }
 },
 "nbformat": 4,
 "nbformat_minor": 2
}
