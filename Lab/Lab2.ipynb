{
  "nbformat": 4,
  "nbformat_minor": 0,
  "metadata": {
    "colab": {
      "name": "Lab2.ipynb",
      "provenance": [],
      "collapsed_sections": []
    },
    "kernelspec": {
      "name": "python3",
      "display_name": "Python 3"
    },
    "language_info": {
      "name": "python"
    }
  },
  "cells": [
    {
      "cell_type": "markdown",
      "source": [
        "#21BIO112: Lab Assignment2\n",
        "##BASICS of PYTHON Programing: \n",
        "##Flow Control and Files\n",
        "<pre>\n",
        "Name: Abhinav Pandey\n",
        "Rollno: AM.EN.U4AIE21088\n",
        "\n",
        "\n"
      ],
      "metadata": {
        "id": "OenPPI6pF1Rq"
      }
    },
    {
      "cell_type": "code",
      "execution_count": null,
      "metadata": {
        "id": "RCL2kkarffuo"
      },
      "outputs": [],
      "source": [
        "#question1\n",
        "Table = {\n",
        "    \"A\" : \"Ala\",\n",
        "    \"R\" : \"Arg\",\n",
        "    \"N\" : \"Asn\",\n",
        "    \"D\" : \"Asp\",\n",
        "    \"C\" : \"Cys\",\n",
        "    \"E\" : \"Glu\",\n",
        "    \"Q\" : \"Gln\",\n",
        "    \"G\" : \"Gly\",\n",
        "    \"H\" : \"His\",\n",
        "    \"I\" : \"He\",\n",
        "    \"L\" : \"Leu\",\n",
        "    \"K\" : \"Lys\",\n",
        "    \"M\" : \"Met\",\n",
        "    \"F\" : \"Phe\",\n",
        "    \"P\" : \"Pro\",\n",
        "    \"S\" : \"Ser\",\n",
        "    \"T\" : \"Thr\",\n",
        "    \"W\" : \"Trp\",\n",
        "    \"Y\" : \"Tyr\",\n",
        "    \"V\" : \"Val\"\n",
        "}\n",
        "user_input = input(\"Enter one letter codon \")\n",
        "print(\"Three letter codon of amino acid is \"+Table[user_input])"
      ]
    },
    {
      "cell_type": "code",
      "source": [
        "#queston2\n",
        "user_input = input(\"Enter a primer sequence \")\n",
        "if(len(user_input)<10):\n",
        "  print(\"Short Primer\")\n",
        "elif(10<len(user_input)<25):\n",
        "  print(\"OK\")\n",
        "else:\n",
        "  print(\"Too Long Primer\")"
      ],
      "metadata": {
        "colab": {
          "base_uri": "https://localhost:8080/"
        },
        "id": "90p234TVdqih",
        "outputId": "943c17cb-e9ce-4f8c-f9aa-8d06b140cc42"
      },
      "execution_count": null,
      "outputs": [
        {
          "output_type": "stream",
          "name": "stdout",
          "text": [
            "Enter a primer sequence jdhfjdhfjasdhfjhdfjhdjdfhdf\n",
            "Too Long Primer\n"
          ]
        }
      ]
    },
    {
      "cell_type": "code",
      "source": [
        "#question3\n",
        "Weights = {\n",
        "    'A':89,\n",
        "    'V':117,\n",
        "    'L':131,\n",
        "    'I':131,\n",
        "    'P':115,\n",
        "    'F':165,\n",
        "    'W':204,\n",
        "    'M':149,\n",
        "    'G':75,\n",
        "    'S':105,\n",
        "    'C':121,\n",
        "    'T':119,\n",
        "    'Y':181,\n",
        "    'N':132,\n",
        "    'Q':146,\n",
        "    'D':133,\n",
        "    'E':147,\n",
        "    'K':146,\n",
        "    'R':174,\n",
        "    'H':155\n",
        "}\n",
        "\n",
        "total_weight = 0\n",
        "user_input = input(\"Enter a protein sequence \")\n",
        "user_input = user_input.upper()\n",
        "for x in user_input:\n",
        "  total_weight += Weights[x]\n",
        "protein_weight = total_weight - (18*(len(user_input)-1))\n",
        "print(\"Total weight is : \" ,total_weight)\n",
        "print(\"Protein weight is : \",protein_weight)\n",
        "\n"
      ],
      "metadata": {
        "colab": {
          "base_uri": "https://localhost:8080/"
        },
        "id": "a0DMisF1epXU",
        "outputId": "ad5c18b0-fda1-40ca-99fa-03dbe15714c3"
      },
      "execution_count": null,
      "outputs": [
        {
          "output_type": "stream",
          "name": "stdout",
          "text": [
            "Enter a protein sequence atata\n",
            "Total weight is :  505\n",
            "Protein weight is :  433\n"
          ]
        }
      ]
    },
    {
      "cell_type": "code",
      "source": [
        "#question4\n",
        "user_input = input(\"Enter a dna sequence \").upper()\n",
        "\n",
        "#initialization\n",
        "counterA = 0\n",
        "counterT = 0\n",
        "counterG = 0\n",
        "counterC = 0\n",
        "\n",
        "#print method\n",
        "def print_base(A, T, G, C):\n",
        "  print(\"No. of Adenine = \" ,A)\n",
        "  print(\"No. of Thymine = \" ,T)\n",
        "  print(\"No. of Guanine = \" ,G)\n",
        "  print(\"No. of Cytosine = \",C)\n",
        "\n",
        "#reset\n",
        "def reset():\n",
        "  global counterA\n",
        "  global counterT\n",
        "  global counterG\n",
        "  global counterC\n",
        "  counterA = 0\n",
        "  counterT = 0\n",
        "  counterG = 0\n",
        "  counterC = 0\n",
        "\n",
        "#method1\n",
        "for x in user_input:\n",
        "  if(x == \"A\"):\n",
        "    counterA+=1\n",
        "  elif(x == \"T\"):\n",
        "    counterT+=1\n",
        "  elif(x == \"G\"):\n",
        "    counterG+=1\n",
        "  elif(x == \"C\"):\n",
        "    counterC+=1\n",
        "print(\"Method 1 : \")\n",
        "print_base(counterA, counterT, counterG, counterC)\n",
        "reset()\n",
        "print(\"=========================================\")\n",
        "        \n",
        "#method2\n",
        "list = []\n",
        "for x in user_input:\n",
        "  list.append(x)\n",
        "for x in list:\n",
        "  if(x == \"A\"):\n",
        "    counterA+=1\n",
        "  elif(x == \"T\"):\n",
        "    counterT+=1\n",
        "  elif(x == \"G\"):\n",
        "    counterG+=1\n",
        "  elif(x == \"C\"):\n",
        "    counterC+=1\n",
        "print(\"Method 2 : \")\n",
        "print_base(counterA, counterT, counterG, counterC)\n",
        "reset()\n",
        "print(\"=========================================\")\n",
        "\n",
        "#method3\n",
        "for x in range(0, len(user_input)):\n",
        "  if(user_input[x] == \"A\"):\n",
        "    counterA+=1\n",
        "  elif(user_input[x] == \"T\"):\n",
        "    counterT+=1\n",
        "  elif(user_input[x] == \"G\"):\n",
        "    counterG+=1\n",
        "  elif(user_input[x] == \"C\"):\n",
        "    counterC+=1\n",
        "print(\"Method 3 : \")\n",
        "print_base(counterA, counterT, counterG, counterC)\n",
        "reset()\n",
        "print(\"=========================================\")\n",
        "\n",
        "#method4\n",
        "x = 0\n",
        "while x <len(user_input):\n",
        "  if(user_input[x] == \"A\"):\n",
        "    counterA+=1\n",
        "  elif(user_input[x] == \"T\"):\n",
        "    counterT+=1\n",
        "  elif(user_input[x] == \"G\"):\n",
        "    counterG+=1\n",
        "  elif(user_input[x] == \"C\"):\n",
        "    counterC+=1\n",
        "  x+=1\n",
        "print(\"Method 4 : \")\n",
        "print_base(counterA, counterT, counterG, counterC)\n",
        "reset()\n",
        "print(\"=========================================\")\n",
        "\n",
        "#method5\n",
        "A = user_input.count(\"A\")\n",
        "T = user_input.count(\"T\")\n",
        "G = user_input.count(\"G\")\n",
        "C = user_input.count(\"C\")\n",
        "print(\"Method 5 : \")\n",
        "print_base(A, T, G, C)"
      ],
      "metadata": {
        "colab": {
          "base_uri": "https://localhost:8080/"
        },
        "id": "yBF8XJhRjdZ5",
        "outputId": "5298b1bf-0cb4-485a-d8a2-76efc850bcb1"
      },
      "execution_count": null,
      "outputs": [
        {
          "output_type": "stream",
          "name": "stdout",
          "text": [
            "Enter a dna sequence actgatcgat\n",
            "Method 1 : \n",
            "No. of Adenine =  3\n",
            "No. of Thymine =  3\n",
            "No. of Guanine =  2\n",
            "No. of Cytosine =  2\n",
            "=========================================\n",
            "Method 2 : \n",
            "No. of Adenine =  3\n",
            "No. of Thymine =  3\n",
            "No. of Guanine =  2\n",
            "No. of Cytosine =  2\n",
            "=========================================\n",
            "Method 3 : \n",
            "No. of Adenine =  3\n",
            "No. of Thymine =  3\n",
            "No. of Guanine =  2\n",
            "No. of Cytosine =  2\n",
            "=========================================\n",
            "Method 4 : \n",
            "No. of Adenine =  3\n",
            "No. of Thymine =  3\n",
            "No. of Guanine =  2\n",
            "No. of Cytosine =  2\n",
            "=========================================\n",
            "Method 5 : \n",
            "No. of Adenine =  3\n",
            "No. of Thymine =  3\n",
            "No. of Guanine =  2\n",
            "No. of Cytosine =  2\n"
          ]
        }
      ]
    },
    {
      "cell_type": "code",
      "source": [
        "#question5\n",
        "Weights = {\n",
        "    'A':89,\n",
        "    'V':117,\n",
        "    'L':131,\n",
        "    'I':131,\n",
        "    'P':115,\n",
        "    'F':165,\n",
        "    'W':204,\n",
        "    'M':149,\n",
        "    'G':75,\n",
        "    'S':105,\n",
        "    'C':121,\n",
        "    'T':119,\n",
        "    'Y':181,\n",
        "    'N':132,\n",
        "    'Q':146,\n",
        "    'D':133,\n",
        "    'E':147,\n",
        "    'K':146,\n",
        "    'R':174,\n",
        "    'H':155\n",
        "}\n",
        "\n",
        "#write\n",
        "f = open(\"a.fasta\", \"w\")\n",
        "f.write(\">O00626|HUMAN Small inducible cytokine A22.\"+ \"\\n\" + \"MARLQTALLVVLVLLAVALQATEAGPYGANMEDSVCCRDYVRYRLPLRVVKHFYWTSDS<=\"+ \"\\n\"+ \"CPRPGVVLLTFRDKEICADPR\"+ \"\\n\"+ \"VPWVKMILNKLSQ\"+ \"\\n\")\n",
        "f.close()\n",
        "\n",
        "#read\n",
        "f = open(\"a.fasta\", \"r\")\n",
        "print(\"The header is \"+f.readline())\n",
        "\n",
        "str1 = f.readline()\n",
        "str1 += f.readline()\n",
        "str1 += f.readline()\n",
        "\n",
        "total_weight = 0\n",
        "for x in str1:\n",
        "  if(x.isalpha()):\n",
        "    total_weight += Weights[x]\n",
        "print(total_weight)"
      ],
      "metadata": {
        "colab": {
          "base_uri": "https://localhost:8080/"
        },
        "id": "ebW1ntTLnLMo",
        "outputId": "e7b33066-bad4-4bd5-d051-083e4395be7f"
      },
      "execution_count": null,
      "outputs": [
        {
          "output_type": "stream",
          "name": "stdout",
          "text": [
            "The header is >O00626|HUMAN Small inducible cytokine A22.\n",
            "\n",
            "12224\n"
          ]
        }
      ]
    }
  ]
}