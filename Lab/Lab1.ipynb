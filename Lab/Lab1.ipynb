{
  "nbformat": 4,
  "nbformat_minor": 0,
  "metadata": {
    "colab": {
      "name": "Lab1.ipynb",
      "provenance": [],
      "collapsed_sections": []
    },
    "kernelspec": {
      "name": "python3",
      "display_name": "Python 3"
    },
    "language_info": {
      "name": "python"
    }
  },
  "cells": [
    {
      "cell_type": "markdown",
      "source": [
        "## **21BIO112: Lab Assignment**\n",
        "Name     : Abhinav Pandey\n",
        "\n",
        "Roll No. : AM.EN.U4AIE21088\n"
      ],
      "metadata": {
        "id": "e-FbJTIuFJmH"
      }
    },
    {
      "cell_type": "code",
      "execution_count": null,
      "metadata": {
        "colab": {
          "base_uri": "https://localhost:8080/"
        },
        "id": "rpX4yo3ARq1K",
        "outputId": "2b65c988-e5a5-4d45-c60d-d394416f4b61"
      },
      "outputs": [
        {
          "output_type": "stream",
          "name": "stdout",
          "text": [
            "Enter the peptide sequence.jdjJ\n",
            "The peptide signal is JDJJ\n",
            "The lenght of the sequence is:\n",
            "4\n"
          ]
        }
      ],
      "source": [
        "#question1\n",
        "peptide_signal = input(\"Enter the peptide sequence.\")\n",
        "print(\"The peptide signal is \" + peptide_signal.upper())\n",
        "print(\"The lenght of the sequence is:\")\n",
        "print(len(peptide_signal))"
      ]
    },
    {
      "cell_type": "code",
      "source": [
        "#question2\n",
        "dna = input(\"Enter the DNA sequence.\")\n",
        "dna_2 = dna.upper()\n",
        "rna = dna_2.replace('T','U')\n",
        "print(\"The DNA seq is \"+dna_2)\n",
        "print(\"The RNA seq is \"+rna)"
      ],
      "metadata": {
        "colab": {
          "base_uri": "https://localhost:8080/"
        },
        "id": "ct09aYWQU55m",
        "outputId": "36787136-2515-426b-ce3d-6bd1dd0f675c"
      },
      "execution_count": null,
      "outputs": [
        {
          "output_type": "stream",
          "name": "stdout",
          "text": [
            "Enter the DNA sequence.gatcgatcgatc\n",
            "The DNA seq is GATCGATCGATC\n",
            "The RNA seq is GAUCGAUCGAUC\n"
          ]
        }
      ]
    },
    {
      "cell_type": "code",
      "source": [
        "#question3\n",
        "\n",
        "dna = input(\"Enter the DNA sequence.\")\n",
        "dna_2 = dna.upper()\n",
        "A = dna_2.count(\"A\")\n",
        "T = dna_2.count(\"T\")\n",
        "G = dna_2.count(\"G\")\n",
        "C = dna_2.count(\"C\")\n",
        "print(\"No. of Adenine = \" + str(A))\n",
        "print(\"No. of Thymine = \" + str(T))\n",
        "print(\"No. of Guanine = \" + str(G))\n",
        "print(\"No. of Cytosine = \" + str(C))"
      ],
      "metadata": {
        "colab": {
          "base_uri": "https://localhost:8080/"
        },
        "id": "ddnyMUsCVxqW",
        "outputId": "151213bb-3bd0-4bf3-f571-4d227d731035"
      },
      "execution_count": null,
      "outputs": [
        {
          "output_type": "stream",
          "name": "stdout",
          "text": [
            "Enter the DNA sequence.gatcgagatagc\n",
            "No. of Adenine = 4\n",
            "No. of Thymine = 2\n",
            "No. of Guanine = 4\n",
            "No. of Cytosine = 2\n"
          ]
        }
      ]
    },
    {
      "cell_type": "code",
      "source": [
        "#question4\n",
        "#Read a DNA sequence from the user and calculate the percentage of GC content in the sequence. \n",
        "#(Hint-use count function)\n",
        "dna = input(\"Enter the DNA sequence.\")\n",
        "dna_2 = dna.upper()\n",
        "G = dna_2.count(\"G\")\n",
        "C = dna_2.count(\"C\")\n",
        "CG = (C+G)/len(dna_2)*100\n",
        "print(\"The CG content in the sequence is \"+str(CG)+\"%.\")"
      ],
      "metadata": {
        "colab": {
          "base_uri": "https://localhost:8080/"
        },
        "id": "i43zylWLZU6r",
        "outputId": "429b5852-7e9c-4797-ee18-6b598d99de26"
      },
      "execution_count": null,
      "outputs": [
        {
          "output_type": "stream",
          "name": "stdout",
          "text": [
            "Enter the DNA sequence.gatcctagatc\n",
            "The CG content in the sequence is 45.45454545454545%.\n"
          ]
        }
      ]
    },
    {
      "cell_type": "code",
      "source": [
        "#question5\n",
        "def compliment(sequence):\n",
        "  comp = ''\n",
        "  if len(sequence) == 0:\n",
        "    return ''\n",
        "  if sequence[0] == 'A':\n",
        "    comp = 'T'\n",
        "  elif sequence[0] == 'U':\n",
        "    comp = 'A'\n",
        "  elif sequence[0] == 'T':\n",
        "    comp = 'A'\n",
        "  elif sequence[0] == 'G':\n",
        "    comp = 'C'\n",
        "  elif sequence[0] == 'C':\n",
        "    comp = 'G'\n",
        "  elif sequence[0] == \" \":\n",
        "    comp = \" \"\n",
        "  newseq =  comp + compliment(sequence[1:])\n",
        "  return newseq\n",
        "\n",
        "dna_sequence = input(\"Enter DNA sequence : \").upper()\n",
        "print(\" Double helix : \", compliment(dna_sequence))"
      ],
      "metadata": {
        "id": "xgk7p4f0akly",
        "colab": {
          "base_uri": "https://localhost:8080/"
        },
        "outputId": "5b6a35c9-4911-4700-cf28-ffea1231dba0"
      },
      "execution_count": null,
      "outputs": [
        {
          "output_type": "stream",
          "name": "stdout",
          "text": [
            "Enter DNA sequence : ATGaTGATGACGCG\n",
            " Double helix :  TACTACTACTGCGC\n"
          ]
        }
      ]
    },
    {
      "cell_type": "code",
      "source": [
        "#question6\n",
        "#Read an mRNA sequence from the user and find whether a start codon is present in the mRNA sequence. (Hint-use find function)\n",
        "m_rna = input(\"Enter an m_rna sequence\")\n",
        "m_rna_2 = m_rna.upper()\n",
        "A = m_rna_2.find('AUG')\n",
        "if(A>0) : print(\"Yes a start codon is present\")\n",
        "else : print(\"Np a start codon is not present\")"
      ],
      "metadata": {
        "colab": {
          "base_uri": "https://localhost:8080/"
        },
        "id": "KB2AeoeNbpA0",
        "outputId": "3af0733a-1bb6-4d7d-bd12-c1dc90b15e99"
      },
      "execution_count": null,
      "outputs": [
        {
          "output_type": "stream",
          "name": "stdout",
          "text": [
            "Enter an m_rna sequencegggaugaguaguguaug\n",
            "Yes a start codon is present\n"
          ]
        }
      ]
    },
    {
      "cell_type": "code",
      "source": [
        "#question7\n",
        "#Read a DNS sequence into a string variable and convert that to a list.\n",
        "dna = input(\"Enter the DNA sequence.\")\n",
        "dna_2 = dna.upper()\n",
        "print(list(dna_2))"
      ],
      "metadata": {
        "colab": {
          "base_uri": "https://localhost:8080/"
        },
        "id": "2WN8UpaUeZZT",
        "outputId": "ee20ede7-2380-4958-acfa-2fa7ff1ab414"
      },
      "execution_count": null,
      "outputs": [
        {
          "output_type": "stream",
          "name": "stdout",
          "text": [
            "Enter the DNA sequence.ggagagagag\n",
            "['G', 'G', 'A', 'G', 'A', 'G', 'A', 'G', 'A', 'G']\n"
          ]
        }
      ]
    },
    {
      "cell_type": "code",
      "source": [
        "#question8\n",
        "#Read an mRNA sequence from the user and find positions of the start and stop codon present in the sequence. Extract the coding region using the start and stop codons. (Hint- use indexing and slicing).\n",
        "start_codon = \"AUG\"\n",
        "stop_codon = [\"UAA\", \"UAG\", \"UGA\"] \n",
        "mrna_sequence = input(\"Enter mrna sequence : \").replace(\" \",\"\").upper()\n",
        "print(mrna_sequence)\n",
        "coding_region = ''\n",
        "start, stop = -1, -1\n",
        "\n",
        "if start_codon in mrna_sequence:\n",
        "  start = mrna_sequence.find(start_codon)\n",
        "  coding_region = mrna_sequence.split(start_codon,1)[1]\n",
        "for i in stop_codon:\n",
        "  if i in coding_region:\n",
        "    stop = mrna_sequence.find(i)\n",
        "    coding_region = coding_region.split(i)[0]\n",
        "\n",
        "print(list(dna_2))\n",
        "print(\"start : \", start, \" stop : \", stop)\n",
        "print(coding_region)\n",
        "\n"
      ],
      "metadata": {
        "id": "MfR9NRR6gUZy",
        "colab": {
          "base_uri": "https://localhost:8080/"
        },
        "outputId": "57a4db81-441c-4fb2-fb93-e9e2395b182c"
      },
      "execution_count": null,
      "outputs": [
        {
          "output_type": "stream",
          "name": "stdout",
          "text": [
            "Enter mrna sequence : AUG GGA UAG CAG AAG UGC GGA\n",
            "AUGGGAUAGCAGAAGUGCGGA\n",
            "start :  0  stop :  6\n",
            "GGA\n"
          ]
        }
      ]
    },
    {
      "cell_type": "code",
      "source": [
        "#question9\n",
        "#Create a Python dictionary to store the codon table explained in the class. (Hint- use codon to amino acid conversion table explained in the class)\n",
        "table = dict()\n",
        "table[\"START\"] = [\"AUG\"]\n",
        "table[\"phe\"] = [\"UUU\",\"UUC\"]\n",
        "table[\"leu\"] = [\"UUA\",\"UUG\",\"CUU\",\"CUC\",\"CUA\",\"CUG\"]\n",
        "table[\"ile\"] = [\"AUU\",\"AUC\",\"AUA\"]\n",
        "table[\"met\"] = [\"AUG\"]\n",
        "table[\"val\"] = [\"GUU\",\"GUC\",\"GUA\",\"GUG\"]\n",
        "table[\"ser\"] = [\"UCU\",\"UCC\",\"UCA\",\"UCG\",\"AGU\",\"AGC\"]\n",
        "table[\"pro\"] = [\"CUU\",\"CCC\",\"CCA\",\"CCG\"]\n",
        "table[\"thr\"] = [\"ACU\",\"ACC\",\"ACA\",\"ACG\"]\n",
        "table[\"ala\"] = [\"GCU\",\"GCC\",\"GCA\",\"GCG\"]\n",
        "table[\"tyr\"] = [\"UAU\",\"UAC\"]\n",
        "table[\"his\"] = [\"CAU\",\"CAC\"]\n",
        "table[\"gin\"] = [\"CAA\",\"CAG\"]\n",
        "table[\"asn\"] = [\"AAU\",\"AAC\"]\n",
        "table[\"lys\"] = [\"AAA\",\"AAG\"]\n",
        "table[\"asp\"] = [\"GAU\",\"GAC\"]\n",
        "table[\"glu\"] = [\"GAA\",\"GAG\"]\n",
        "table[\"cys\"] = [\"UGU\",\"UGC\"]\n",
        "table[\"trp\"] = [\"UGG\"]\n",
        "table[\"arg\"] = [\"AGA\",\"AGG\",\"CGU\",\"CGC\",\"CGA\",\"CGG\"]\n",
        "table[\"gly\"] = [\"GGU\",\"GGC\",\"GGA\",\"GGG\"]\n",
        "table[\"STOP\"] = [\"UAA\",\"UAG\",\"UGA\"]\n",
        "table"
      ],
      "metadata": {
        "id": "JiG9AnM3gW3-",
        "colab": {
          "base_uri": "https://localhost:8080/"
        },
        "outputId": "583622f2-be9c-43e7-f53c-1c60db6a834a"
      },
      "execution_count": null,
      "outputs": [
        {
          "output_type": "execute_result",
          "data": {
            "text/plain": [
              "{'START': ['AUG'],\n",
              " 'STOP': ['UAA', 'UAG', 'UGA'],\n",
              " 'ala': ['GCU', 'GCC', 'GCA', 'GCG'],\n",
              " 'arg': ['AGA', 'AGG', 'CGU', 'CGC', 'CGA', 'CGG'],\n",
              " 'asn': ['AAU', 'AAC'],\n",
              " 'asp': ['GAU', 'GAC'],\n",
              " 'cys': ['UGU', 'UGC'],\n",
              " 'gin': ['CAA', 'CAG'],\n",
              " 'glu': ['GAA', 'GAG'],\n",
              " 'gly': ['GGU', 'GGC', 'GGA', 'GGG'],\n",
              " 'his': ['CAU', 'CAC'],\n",
              " 'ile': ['AUU', 'AUC', 'AUA'],\n",
              " 'leu': ['UUA', 'UUG', 'CUU', 'CUC', 'CUA', 'CUG'],\n",
              " 'lys': ['AAA', 'AAG'],\n",
              " 'met': ['AUG'],\n",
              " 'phe': ['UUU', 'UUC'],\n",
              " 'pro': ['CUU', 'CCC', 'CCA', 'CCG'],\n",
              " 'ser': ['UCU', 'UCC', 'UCA', 'UCG', 'AGU', 'AGC'],\n",
              " 'thr': ['ACU', 'ACC', 'ACA', 'ACG'],\n",
              " 'trp': ['UGG'],\n",
              " 'tyr': ['UAU', 'UAC'],\n",
              " 'val': ['GUU', 'GUC', 'GUA', 'GUG']}"
            ]
          },
          "metadata": {},
          "execution_count": 7
        }
      ]
    },
    {
      "cell_type": "code",
      "source": [
        "#question10\n",
        "#Read a DNA sequence from the user and do the process of transcription and translation to see what amino acid sequence is produced from it.\n",
        "def split_three(sequence):\n",
        "  string = \"\"\n",
        "  count = 0\n",
        "  for i in sequence:\n",
        "    string += i\n",
        "    count += 1\n",
        "    if count ==  3:\n",
        "      string += \" \"\n",
        "      count = 0\n",
        "  return string\n",
        "\n",
        "dna_seq = input(\"Enter dna sequence : \").upper()\n",
        "dna_seq = dna_seq.replace(\" \",\"\")\n",
        "mrna_seq = dna_seq.replace('T','U')\n",
        "mrna_seq = split_three(mrna_sequence)\n",
        "print(\"mrna Sequence : \",mrna_seq)\n",
        "code = mrna_seq.split()\n",
        "coding_region = []\n",
        "value = False\n",
        "for i in code:\n",
        "  if i == table[\"START\"][0]:\n",
        "     value = True\n",
        "  if i in table[\"STOP\"]:\n",
        "     break\n",
        "  if value:\n",
        "     coding_region.append(i)\n",
        "print(\"Coding region : \",coding_region)\n",
        "print(\"trna Sequence : \", compliment(\" \".join(coding_region)).replace('T','U'))\n",
        "aminoacid = \"\"\n",
        "for i in coding_region:\n",
        "    if len(i)<3:\n",
        "        aminoacid+=i+\" \"\n",
        "    for key in table:\n",
        "         if i.upper() in table[key]:\n",
        "            if(key.upper() != \"START\"):\n",
        "                aminoacid+=key.upper()+\" \"\n",
        "print(\"Amino acid : \",aminoacid)"
      ],
      "metadata": {
        "id": "5svnxF1Cn021",
        "colab": {
          "base_uri": "https://localhost:8080/"
        },
        "outputId": "60651084-2678-44bd-8b4b-4301d5a222a7"
      },
      "execution_count": null,
      "outputs": [
        {
          "output_type": "stream",
          "name": "stdout",
          "text": [
            "Enter dna sequence : ATGCAGCTAGCTAGCA\n",
            "mrna Sequence :  AUG GGA UAG CAG AAG UGC GGA \n",
            "Coding region :  ['AUG', 'GGA']\n",
            "trna Sequence :  UAC CCU\n",
            "Amino acid :  MET GLY \n"
          ]
        }
      ]
    }
  ]
}